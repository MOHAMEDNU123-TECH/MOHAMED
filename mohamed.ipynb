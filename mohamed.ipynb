{
  "nbformat": 4,
  "nbformat_minor": 0,
  "metadata": {
    "colab": {
      "provenance": [],
      "authorship_tag": "ABX9TyPtM0C1TgDjzlxbMEMXWZbb",
      "include_colab_link": true
    },
    "kernelspec": {
      "name": "python3",
      "display_name": "Python 3"
    },
    "language_info": {
      "name": "python"
    }
  },
  "cells": [
    {
      "cell_type": "markdown",
      "metadata": {
        "id": "view-in-github",
        "colab_type": "text"
      },
      "source": [
        "<a href=\"https://colab.research.google.com/github/MOHAMEDNU123-TECH/MOHAMED/blob/main/mohamed.ipynb\" target=\"_parent\"><img src=\"https://colab.research.google.com/assets/colab-badge.svg\" alt=\"Open In Colab\"/></a>"
      ]
    },
    {
      "cell_type": "code",
      "execution_count": 1,
      "metadata": {
        "colab": {
          "base_uri": "https://localhost:8080/"
        },
        "id": "1hSloHFMZKoI",
        "outputId": "899fa5f5-113e-4690-f1b2-6f5aabe031ba"
      },
      "outputs": [
        {
          "output_type": "stream",
          "name": "stdout",
          "text": [
            "Studyopedia sample Python program....\n"
          ]
        }
      ],
      "source": [
        "print(\"Studyopedia sample Python program....\")"
      ]
    },
    {
      "cell_type": "code",
      "source": [
        "val1 = 6;\n",
        "val2 = 10;\n",
        "\n",
        "#sum\n",
        "val3 = val1 + val2;\n",
        "\n",
        "print(val3)"
      ],
      "metadata": {
        "colab": {
          "base_uri": "https://localhost:8080/"
        },
        "id": "w_DgFJJcab_M",
        "outputId": "8c8a6866-be97-4d24-831b-17b2d621c6c9"
      },
      "execution_count": 2,
      "outputs": [
        {
          "output_type": "stream",
          "name": "stdout",
          "text": [
            "16\n"
          ]
        }
      ]
    }
  ]
}